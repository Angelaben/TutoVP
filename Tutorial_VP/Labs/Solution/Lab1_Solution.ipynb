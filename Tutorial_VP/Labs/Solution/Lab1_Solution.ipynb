{
 "cells": [
  {
   "cell_type": "markdown",
   "metadata": {},
   "source": [
    "# Exercice 1 : Stationary Environment - Multi Armed Bandits"
   ]
  },
  {
   "cell_type": "code",
   "execution_count": null,
   "metadata": {},
   "outputs": [],
   "source": [
    "import os\n",
    "os.chdir(\"../\")"
   ]
  },
  {
   "cell_type": "code",
   "execution_count": null,
   "metadata": {},
   "outputs": [],
   "source": [
    "import numpy as np\n",
    "import tensorflow as tf\n",
    "from tqdm import trange\n",
    "import matplotlib.pyplot as plt\n",
    "from IPython.display import clear_output\n",
    "import ENV.Stationary_Bandit_ENV as S_bandit_env\n",
    "from ENV.Logger import Logger\n",
    "import math\n",
    "np.random.seed(42) # For reproductibility"
   ]
  },
  {
   "cell_type": "code",
   "execution_count": null,
   "metadata": {},
   "outputs": [],
   "source": [
    "os.getcwd()"
   ]
  },
  {
   "cell_type": "markdown",
   "metadata": {},
   "source": [
    "# $\\epsilon-greedy$ action value ( sample average)"
   ]
  },
  {
   "cell_type": "code",
   "execution_count": null,
   "metadata": {},
   "outputs": [],
   "source": [
    "# Creating the environment \n",
    "env = S_bandit_env.Stationary_Bandit()\n",
    "\n",
    "env.get_nb_bandit\n",
    "env.list_mean_bandit()"
   ]
  },
  {
   "cell_type": "code",
   "execution_count": null,
   "metadata": {},
   "outputs": [],
   "source": [
    "class Q_solver() :\n",
    "\n",
    "    def __init__(self, env, timestep = 1000) :\n",
    "        self.env = env\n",
    "        self.nb_bandits = env.get_nb_bandit\n",
    "        self.Q_table = np.zeros((self.nb_bandits, 1))\n",
    "        self.action_count = np.zeros((self.nb_bandits, 1))\n",
    "        self.timestep = timestep\n",
    "        # Parameters initialisation\n",
    "        self.epsilon = 0.1\n",
    "        self.print_delay = 0.25\n",
    "        # Logger\n",
    "        self.logger = Logger()\n",
    "\n",
    "    def act(self, act_epsilon_greedy) :\n",
    "        if act_epsilon_greedy :\n",
    "            return np.random.randint(0, self.nb_bandits, 1)[0]  # Transform [Action] to action (int)\n",
    "        else :\n",
    "            return np.argmax(self.Q_table)\n",
    "\n",
    "    def updateQtable(self, action, reward, action_count) :\n",
    "        self.Q_table[action] = self.Q_table[action] + 1 / action_count * (reward - self.Q_table[action])\n",
    "\n",
    "    def run(self, force_epsilon = None) :\n",
    "        self.boxplotter = np.array([[0]] * self.nb_bandits).tolist()\n",
    "        print(self.boxplotter)\n",
    "        if force_epsilon is not None :\n",
    "            self.epsilon = force_epsilon\n",
    "        env.reset()\n",
    "        cumul_reward = 0\n",
    "\n",
    "        for iteration in trange(1, self.timestep) :\n",
    "            action = self.act(self.epsilon > np.random.random())\n",
    "            self.action_count[action] += 1\n",
    "            reward = env.step(action)\n",
    "            cumul_reward += reward\n",
    "            self.boxplotter[action].append(reward)\n",
    "            self.updateQtable(action, reward, self.action_count[action][0])\n",
    "            self.logger.epsilon_log(self.epsilon)\n",
    "            self.logger.reward_log(reward)\n",
    "            if iteration % (self.timestep * self.print_delay) == 0 :\n",
    "                self.logger.mean_reward_log(cumul_reward / (self.timestep * self.print_delay))\n",
    "                self.logger.plot_log()\n",
    "                cumul_reward = 0\n",
    "                plt.boxplot(solver.boxplotter)\n",
    "                plt.show()"
   ]
  },
  {
   "cell_type": "code",
   "execution_count": null,
   "metadata": {},
   "outputs": [],
   "source": []
  },
  {
   "cell_type": "code",
   "execution_count": null,
   "metadata": {},
   "outputs": [],
   "source": [
    "env = S_bandit_env.Stationary_Bandit()\n",
    "solver = Q_solver(env, 100000)"
   ]
  },
  {
   "cell_type": "code",
   "execution_count": null,
   "metadata": {
    "scrolled": false
   },
   "outputs": [],
   "source": [
    "\n",
    "solver.run(0.01)"
   ]
  },
  {
   "cell_type": "code",
   "execution_count": null,
   "metadata": {},
   "outputs": [],
   "source": []
  },
  {
   "cell_type": "code",
   "execution_count": null,
   "metadata": {},
   "outputs": [],
   "source": [
    "import seaborn as sns\n",
    "solver.Q_table"
   ]
  },
  {
   "cell_type": "code",
   "execution_count": null,
   "metadata": {},
   "outputs": [],
   "source": [
    "sns.heatmap(solver.Q_table.T, cmap=\"coolwarm\")"
   ]
  },
  {
   "cell_type": "markdown",
   "metadata": {},
   "source": [
    "# UCB"
   ]
  },
  {
   "cell_type": "code",
   "execution_count": null,
   "metadata": {},
   "outputs": [],
   "source": [
    "class Q_solver_UCB(Q_solver) :\n",
    "\n",
    "    def __init__(self, env, timestep = 1000) :\n",
    "        Q_solver.__init__(self, env, timestep)\n",
    "        self.c = 0.75\n",
    "    def act(self, time, act_counter):\n",
    "        maxer = []\n",
    "        for action in range(self.nb_bandits):\n",
    "            maxer.append(self.Q_table[action] + self.c * np.sqrt(math.log(time) / (1 + act_counter[action])))\n",
    "        return np.argmax(maxer)\n",
    "    \n",
    "    def run(self, force_epsilon = None) :\n",
    "\n",
    "        if force_epsilon is not None :\n",
    "            self.epsilon = force_epsilon\n",
    "        env.reset()\n",
    "        cumul_reward = 0\n",
    "\n",
    "        for iteration in trange(1, self.timestep) :\n",
    "            action = self.act(iteration, self.action_count)\n",
    "            self.action_count[action] += 1\n",
    "            reward = env.step(action)\n",
    "            cumul_reward += reward\n",
    "            self.updateQtable(action, reward, self.action_count[action][0])\n",
    "            self.logger.reward_log(reward)\n",
    "            if iteration % (self.timestep * self.print_delay) == 0 :\n",
    "                self.logger.mean_reward_log(cumul_reward / (self.timestep * self.print_delay))\n",
    "                self.logger.plot_log(5)\n",
    "                cumul_reward = 0\n"
   ]
  },
  {
   "cell_type": "code",
   "execution_count": null,
   "metadata": {},
   "outputs": [],
   "source": [
    "env = S_bandit_env.Stationary_Bandit()\n",
    "solver = Q_solver_UCB(env)\n",
    "\n",
    "solver.run(0.01)"
   ]
  },
  {
   "cell_type": "markdown",
   "metadata": {},
   "source": [
    "## Policy based : Gradient bandit"
   ]
  },
  {
   "cell_type": "code",
   "execution_count": null,
   "metadata": {},
   "outputs": [],
   "source": [
    "class Q_solver_policy(Q_solver) :\n",
    "\n",
    "    def __init__(self, env, timestep = 1000) :\n",
    "        Q_solver.__init__(self, env, timestep)\n",
    "        self.alpha = 0.1\n",
    "\n",
    "    def act(self, policy) :\n",
    "        possible_actions = np.array(range(self.nb_bandits))\n",
    "        return np.random.choice(possible_actions, size = 1, p = policy.flatten() / np.sum(policy))[0]\n",
    "\n",
    "    def update_preferences(self, preferences, action, reward, mean_reward, policy) :\n",
    "        preferences[action] += self.alpha * (reward - mean_reward) * (1 - policy[action])\n",
    "        for act in range(self.nb_bandits) :\n",
    "            if act != action :\n",
    "                preferences[act] -= self.alpha * (reward - mean_reward) * policy[act]\n",
    "        return preferences\n",
    "\n",
    "    def compute_policy(self, preferences) :\n",
    "        policy = np.exp(preferences) / np.sum(np.exp(preferences))\n",
    "        return policy\n",
    "\n",
    "    def run(self, force_epsilon = None) :\n",
    "        self.boxplotter = [[0]] * self.nb_bandits\n",
    "        env.reset()\n",
    "        cumul_reward = 0\n",
    "        preferences = np.zeros((self.nb_bandits, 1))\n",
    "        average_reward = 0.0\n",
    "        for iteration in trange(1, self.timestep) :\n",
    "            policy = self.compute_policy(preferences)\n",
    "            action = self.act(policy)\n",
    "            reward = env.step(action)\n",
    "            self.boxplotter[action].append(reward)\n",
    "            self.logger.reward_log(reward)\n",
    "            cumul_reward += reward\n",
    "            average_reward += (reward - average_reward) / iteration\n",
    "            preferences = self.update_preferences(preferences, action, reward, average_reward, policy)\n",
    "            if iteration % (self.timestep * self.print_delay) == 0 :\n",
    "                self.logger.plot_mean_reward()\n",
    "                cumul_reward = 0\n"
   ]
  },
  {
   "cell_type": "code",
   "execution_count": null,
   "metadata": {},
   "outputs": [],
   "source": [
    "env = S_bandit_env.Stationary_Bandit()\n",
    "solver = Q_solver_policy(env, timestep=100)\n",
    "solver.run()"
   ]
  },
  {
   "cell_type": "code",
   "execution_count": null,
   "metadata": {},
   "outputs": [],
   "source": [
    "plt.boxplot(solver.boxplotter)\n",
    "plt.show()"
   ]
  },
  {
   "cell_type": "markdown",
   "metadata": {},
   "source": [
    "# Exercice 2 : Non-Stationary Environment - Multi Armed Bandits"
   ]
  },
  {
   "cell_type": "code",
   "execution_count": null,
   "metadata": {},
   "outputs": [],
   "source": [
    "import ENV.Non_Stationary_Bandit_ENV as NS_bandit_env\n"
   ]
  },
  {
   "cell_type": "markdown",
   "metadata": {},
   "source": [
    "# Experiment last Solver "
   ]
  },
  {
   "cell_type": "code",
   "execution_count": null,
   "metadata": {},
   "outputs": [],
   "source": [
    "env = NS_bandit_env.Non_Stationary_Bandit()\n",
    "solver = Q_solver(env, 10000)\n",
    "solver.run(0.1)"
   ]
  },
  {
   "cell_type": "markdown",
   "metadata": {},
   "source": [
    "## Improvement "
   ]
  },
  {
   "cell_type": "code",
   "execution_count": null,
   "metadata": {},
   "outputs": [],
   "source": [
    "class Q_solver_NS(Q_solver) :\n",
    "    def __init__(self, env, timestep = 1000) :\n",
    "        Q_solver.__init__(self, env, timestep)\n",
    "        self.alpha = 0.1\n",
    "\n",
    "    def updateQtable(self, action, reward, action_count) :\n",
    "        self.Q_table[action] = self.Q_table[action] + self.alpha * (reward - self.Q_table[action])\n"
   ]
  },
  {
   "cell_type": "code",
   "execution_count": null,
   "metadata": {},
   "outputs": [],
   "source": [
    "env = NS_bandit_env.Non_Stationary_Bandit()\n",
    "solver = Q_solver_NS(env)\n",
    "solver.run(0.1)\n"
   ]
  },
  {
   "cell_type": "markdown",
   "metadata": {},
   "source": [
    "# Exercice 3 : Contextual Environment - Multi Armed Bandits"
   ]
  },
  {
   "cell_type": "code",
   "execution_count": null,
   "metadata": {},
   "outputs": [],
   "source": [
    "import ENV.ContextualBandit as C_Bandit"
   ]
  },
  {
   "cell_type": "code",
   "execution_count": null,
   "metadata": {},
   "outputs": [],
   "source": [
    "class Q_solver_contextual(Q_solver):\n",
    "    \n",
    "    def __init__(self, env, timestep = 1000):\n",
    "        Q_solver.__init__(self, env, timestep)\n",
    "        self.nb_context = env.get_nb_context \n",
    "        self.Q_table = np.zeros((self.nb_bandits, self.nb_context))\n",
    "        self.action_count = np.zeros((self.nb_bandits, self.nb_context))\n",
    "        self.timestep = timestep\n",
    "        # Parameters initialisation        \n",
    "        self.epsilon = 1.\n",
    "        self.epsilon_origin = 1.\n",
    "        self.epsilon_decay = 10\n",
    "        self.epsilon_min = 0.02\n",
    "        self.print_delay = 0.1\n",
    "       \n",
    "        \n",
    "    def act(self, act_epsilon_greedy, context):\n",
    "        if act_epsilon_greedy :\n",
    "            return np.random.randint(0, self.nb_bandits, 1)[0]  # Transform [Action] to action (int)\n",
    "        else:\n",
    "            return np.argmax(self.Q_table, axis = 1)[context]\n",
    "        \n",
    "    def updateQtable(self, action, reward, action_count, context):\n",
    "        self.Q_table[action][context] = \\\n",
    "                    self.Q_table[action][context] + 1 / action_count * (reward - self.Q_table[action][context])\n",
    "                    \n",
    "        \n",
    "    def run(self, force_epsilon = None):\n",
    "        context = env.reset()\n",
    "        cumul_reward = 0\n",
    "        self.boxplotter = [[0]] * self.nb_bandits\n",
    "        for iteration in trange(1, self.timestep):\n",
    "            action = self.act(self.epsilon > np.random.random(), context)\n",
    "            self.action_count[action] += 1\n",
    "            reward, context = env.step(action)\n",
    "            self.updateQtable(action, reward, self.action_count[action][0], context)\n",
    "            # Update epsilon with linear decay\n",
    "            self.epsilon = max(self.epsilon - self.epsilon_origin / self.epsilon_decay, self.epsilon_min)\n",
    "            if force_epsilon is not None:\n",
    "                self.epsilon = force_epsilon\n",
    "            self.boxplotter[action].append(reward)\n",
    "            cumul_reward += reward\n",
    "            self.logger.epsilon_log(self.epsilon)\n",
    "            self.logger.reward_log(reward)\n",
    "            if iteration % (self.timestep * self.print_delay) == 0 :\n",
    "                self.logger.mean_reward_log(cumul_reward / (self.timestep * self.print_delay))\n",
    "                self.logger.plot_log()\n",
    "                plt.boxplot(solver.boxplotter)\n",
    "                plt.show()\n",
    "                cumul_reward = 0"
   ]
  },
  {
   "cell_type": "code",
   "execution_count": null,
   "metadata": {
    "scrolled": false
   },
   "outputs": [],
   "source": [
    "env = C_Bandit.Contextual_bandit()\n",
    "solver = Q_solver_contextual(env)\n",
    "solver.run(force_epsilon = 0.1)\n"
   ]
  },
  {
   "cell_type": "markdown",
   "metadata": {},
   "source": [
    "# Exercice 4 ; Cartpole and DQN"
   ]
  },
  {
   "cell_type": "code",
   "execution_count": null,
   "metadata": {},
   "outputs": [],
   "source": [
    "import gym\n",
    "from collections import deque\n",
    "import tensorflow as tf\n",
    "from tensorflow.python.keras.models import Sequential, Model\n",
    "from tensorflow.python.keras.layers import Dense, Input, Add, concatenate, RepeatVector, Flatten, Lambda, Conv2D, MaxPooling2D, UpSampling2D, Reshape\n",
    "from tensorflow.python.keras.optimizers import Adam\n",
    "import random"
   ]
  },
  {
   "cell_type": "code",
   "execution_count": null,
   "metadata": {},
   "outputs": [],
   "source": [
    "class DQNAgent :\n",
    "    def __init__(self, env, state_size, action_size) :\n",
    "\n",
    "        self.state_size = state_size\n",
    "        self.action_size = action_size\n",
    "        self.memory = deque(maxlen = 2000)\n",
    "        self.gamma = 0.995  # discount rate\n",
    "        self.exploration_rate = 1.  # exploration rate\n",
    "        self.original_epsilon = 1.\n",
    "        self.min_epsilon = 0.01\n",
    "        self.exploration_rate_decay = 150\n",
    "        self.n_game_max = 300\n",
    "        self.model = self._build_model()\n",
    "        self.model.summary()\n",
    "        np.random.seed(42)\n",
    "\n",
    "    def _build_model(self) :\n",
    "        input_state = Input((self.state_size,))\n",
    "        model = Dense(32, activation = \"tanh\")(input_state)\n",
    "        q_value = Dense(self.action_size, activation = \"linear\")(model)\n",
    "        dqn = Model([input_state], q_value)\n",
    "        dqn.compile(optimizer = tf.keras.optimizers.Adam(lr = 0.01), loss = \"mse\")\n",
    "        return dqn\n",
    "\n",
    "    def remember(self, state, action, reward, next_state, done) :\n",
    "        self.memory.append((state, action, reward, next_state, done))\n",
    "\n",
    "    def act(self, state) :\n",
    "        if np.random.rand() <= self.exploration_rate :\n",
    "            return np.random.randint(self.action_size)\n",
    "        act_values = self.model.predict(state)\n",
    "        return np.argmax(act_values[0])  # returns action\n",
    "\n",
    "    def replay(self, batch_s) :\n",
    "\n",
    "        input_batch, action_batch, reward_batch, next_state_batch = [], [], [], []\n",
    "        minibatch = random.sample(self.memory, min(len(self.memory), batch_s))\n",
    "        targets = []\n",
    "        states = []\n",
    "        for state, action, reward, next_state, done in minibatch :\n",
    "            # DQN FIT\n",
    "            vanilla_target = reward\n",
    "            if not done :\n",
    "                # Double DQN\n",
    "                vanilla_target = reward + self.gamma * np.amax(self.model.predict(next_state)[0])\n",
    "            vanilla_target_f = self.model.predict(state)\n",
    "            print(vanilla_target_f.shape)\n",
    "            vanilla_target_f[state][action] = vanilla_target\n",
    "            # Train the Neural Net with the state and target_f\n",
    "            states.append(state[0])\n",
    "            targets.append(vanilla_target_f[0])\n",
    "        self.vanillaLoss = self.model.fit(np.array(states), np.array(targets), epochs = 1, verbose = 0).history[\"loss\"][\n",
    "            0]\n",
    "\n",
    "    def run(self) :\n",
    "        done = False\n",
    "        batch_size = 32\n",
    "        state = env.reset()\n",
    "        state = np.reshape(state, (1, self.state_size))\n",
    "        self.cumulative_reward = 0\n",
    "        score = []\n",
    "        epsilon_logger = []\n",
    "        score_average = []\n",
    "        cpt_game = 0\n",
    "\n",
    "        for timer in range(100000) :\n",
    "            action = self.act(state)\n",
    "            next_state, reward, done, _ = env.step(action)\n",
    "            next_state = np.reshape(next_state, (1, self.state_size))\n",
    "            self.remember(state, action, reward, next_state, done)\n",
    "\n",
    "            self.cumulative_reward += reward\n",
    "            state = next_state\n",
    "            if done :\n",
    "                cpt_game += 1\n",
    "                state = env.reset()\n",
    "                score_average.append(np.mean(score[-10 :]))\n",
    "                state = np.reshape(state, (1, self.state_size))\n",
    "                score.append(self.cumulative_reward)\n",
    "                print(\"episode: {}, score: {}, e: {:.2} \"\n",
    "                      .format(cpt_game, self.cumulative_reward, self.exploration_rate))\n",
    "                self.cumulative_reward = 0\n",
    "                loss = self.replay(batch_size)\n",
    "                self.exploration_rate = max(\n",
    "                    self.exploration_rate - (self.original_epsilon / self.exploration_rate_decay), \\\n",
    "                    self.min_epsilon)\n",
    "                epsilon_logger.append(self.exploration_rate)\n",
    "            if timer % 1000 == 0 :\n",
    "                clear_output(True)\n",
    "                self.model.summary()\n",
    "                plt.subplot(311)\n",
    "                axis = plt.gca()\n",
    "                axis.set_ylim([0, 200])\n",
    "                plt.plot(score, label = \"Cumulative reward \")\n",
    "                plt.legend()\n",
    "                plt.grid()\n",
    "                plt.show()\n",
    "                plt.subplot(312)\n",
    "\n",
    "                axis = plt.gca()\n",
    "                axis.set_ylim([0, 200])\n",
    "                plt.plot(score_average, label = \"Cumulative Mean reward \")\n",
    "                plt.legend()\n",
    "                plt.grid()\n",
    "                plt.show()\n",
    "                plt.subplot(313)\n",
    "\n",
    "                axis = plt.gca()\n",
    "                axis.set_ylim([0, 1])\n",
    "                plt.plot(epsilon_logger, label = \"Epsilon\")\n",
    "                plt.grid()\n",
    "                plt.legend()\n",
    "                plt.show()"
   ]
  },
  {
   "cell_type": "code",
   "execution_count": null,
   "metadata": {
    "scrolled": false
   },
   "outputs": [],
   "source": [
    "\n",
    "env = gym.make('CartPole-v0')\n",
    "env.reset()\n",
    "action_size = env.action_space.n\n",
    "state_size = env.observation_space.shape[0]\n",
    "\n",
    "agent_vanilla = DQNAgent(env, state_size, action_size)\n",
    "agent_vanilla.run()\n",
    "\n",
    "   "
   ]
  },
  {
   "cell_type": "code",
   "execution_count": null,
   "metadata": {},
   "outputs": [],
   "source": [
    "model = agent_vanilla.model\n",
    "\n",
    "state = env.reset()\n",
    "state = np.reshape(state, (1, state_size))\n",
    "for i in range(2000):\n",
    "\n",
    "    clear_output(True)\n",
    "    action = np.argmax(model.predict(state)[0])\n",
    "    next_st, reward, done, _= env.step(action)\n",
    "    state = next_st\n",
    "    if done :\n",
    "        state = env.reset()\n",
    "    state = np.reshape(state, (1, state_size))\n",
    "\n",
    "    plt.imshow(env.render(mode=\"rgb_array\"))\n",
    "    plt.show()\n"
   ]
  },
  {
   "cell_type": "code",
   "execution_count": null,
   "metadata": {},
   "outputs": [],
   "source": []
  }
 ],
 "metadata": {
  "kernelspec": {
   "display_name": "Python 3",
   "language": "python",
   "name": "python3"
  },
  "language_info": {
   "codemirror_mode": {
    "name": "ipython",
    "version": 3
   },
   "file_extension": ".py",
   "mimetype": "text/x-python",
   "name": "python",
   "nbconvert_exporter": "python",
   "pygments_lexer": "ipython3",
   "version": "3.5.2"
  }
 },
 "nbformat": 4,
 "nbformat_minor": 2
}
